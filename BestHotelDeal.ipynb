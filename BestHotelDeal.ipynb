{
 "cells": [
  {
   "cell_type": "markdown",
   "metadata": {},
   "source": [
    "### Liabraries"
   ]
  },
  {
   "cell_type": "code",
   "execution_count": 627,
   "metadata": {
    "tags": []
   },
   "outputs": [],
   "source": [
    "from bs4 import BeautifulSoup\n",
    "import requests\n",
    "\n",
    "import unidecode\n",
    "import pandas as pd\n",
    "\n",
    "import matplotlib.pyplot as plt\n",
    "import seaborn as sns\n",
    "\n",
    "import warnings\n",
    "warnings.filterwarnings(\"ignore\")"
   ]
  },
  {
   "cell_type": "markdown",
   "metadata": {},
   "source": [
    "### Get Data"
   ]
  },
  {
   "cell_type": "code",
   "execution_count": 628,
   "metadata": {
    "tags": []
   },
   "outputs": [],
   "source": [
    "hotel = []\n",
    "reviews_score = []\n",
    "reviews_text = []\n",
    "reviews_number = []\n",
    "room_type = []\n",
    "bed_type = []\n",
    "price = []\n",
    "tax = []\n",
    "address = []\n",
    "metro = []\n",
    "\n",
    "\n",
    "headers = {'User-Agent': ''}\n",
    "base_url = \"https://www.booking.com/searchresults.html?aid=355028&sid=7c99a75c7fd87553939b7091562675ac&tmpl=searchresults&checkin_month=5&checkin_monthday=21&checkin_year=2021&checkout_month=5&checkout_monthday=22&checkout_year=2021&city=-782831&class_interval=1&dest_id=-782831&dest_type=city&dtdisc=0&from_sf=5&group_adults=1&group_children=0&inac=0&index_postcard=0&label_click=undef&no_rooms=1&postcard=0&raw_dest_type=city&room1=A&sb_price_type=total&shw_aparth=1&slp_r_match=0&src=searchresults&src_elem=sb&srpvid=10c6811eb70b015c&ss=Dubai&ss_all=0&ssb=empty&sshis=0&ssne=Dubai&ssne_untouched=Dubai&top_ufis=1&sig=v1I39mrjER&rows=25&offset=\"\n",
    "\n",
    "for page in range(0, 900, 25):\n",
    "    \n",
    "    response = requests.get(base_url+str(page), headers=headers, timeout=5)\n",
    "\n",
    "    soup = BeautifulSoup(response.content, 'lxml')\n",
    "\n",
    "    for item in soup.select('.sr_property_block'):\n",
    "        try:\n",
    "            hotel.append(item.select('.sr-hotel__name')[0].get_text().strip())\n",
    "        except Exception:\n",
    "            hotel.append('')\n",
    "        try:\n",
    "            reviews_score.append(item.select('.bui-review-score__badge')[0].get_text().strip())\n",
    "        except Exception:\n",
    "            reviews_score.append('')\n",
    "        try:\n",
    "            reviews_text.append(item.select('.bui-review-score__title')[0].get_text().strip())\n",
    "        except Exception:\n",
    "            reviews_text.append('')\n",
    "        try:\n",
    "            reviews_number.append(item.select('.bui-review-score__text')[0].get_text().strip())\n",
    "        except Exception:\n",
    "            reviews_number.append('')\n",
    "        try:\n",
    "            room_type.append(item.select('.room_link')[0].get_text().strip())\n",
    "        except Exception:\n",
    "            room_type.append('')\n",
    "        try:\n",
    "            bed_type.append(item.select('.c-beds-configuration')[0].get_text().strip())\n",
    "        except:\n",
    "            bed_type.append('')\n",
    "        try:\n",
    "            price.append(item.select('.bui-u-sr-only')[1].get_text().strip())\n",
    "        except Exception:\n",
    "            price.append('')\n",
    "        try:\n",
    "            tax.append(item.select('.prd-taxes-and-fees-under-price')[0].get_text().strip())\n",
    "        except Exception:\n",
    "            tax.append('')\n",
    "        try:  \n",
    "            address.append(item.select('.bui-link')[0].get_text().strip())\n",
    "        except Exception:\n",
    "            address.append('')\n",
    "        try:\n",
    "            metro.append(item.select('.sr_card_address_line__item')[1].get_text().strip())\n",
    "        except Exception:\n",
    "            metro.append('no metro')"
   ]
  },
  {
   "cell_type": "code",
   "execution_count": 629,
   "metadata": {
    "tags": []
   },
   "outputs": [
    {
     "data": {
      "text/plain": [
       "(871, 871, 871, 871, 871, 871, 871, 871, 871, 871)"
      ]
     },
     "execution_count": 629,
     "metadata": {},
     "output_type": "execute_result"
    }
   ],
   "source": [
    "len(hotel), len(reviews_score), len(reviews_text), len(reviews_number), len(room_type), len(bed_type), len(price), len(tax), len(address), len(metro)"
   ]
  },
  {
   "cell_type": "code",
   "execution_count": 630,
   "metadata": {},
   "outputs": [
    {
     "data": {
      "text/html": [
       "<div>\n",
       "<style scoped>\n",
       "    .dataframe tbody tr th:only-of-type {\n",
       "        vertical-align: middle;\n",
       "    }\n",
       "\n",
       "    .dataframe tbody tr th {\n",
       "        vertical-align: top;\n",
       "    }\n",
       "\n",
       "    .dataframe thead th {\n",
       "        text-align: right;\n",
       "    }\n",
       "</style>\n",
       "<table border=\"1\" class=\"dataframe\">\n",
       "  <thead>\n",
       "    <tr style=\"text-align: right;\">\n",
       "      <th></th>\n",
       "      <th>hotel</th>\n",
       "      <th>reviews_score</th>\n",
       "      <th>reviews_text</th>\n",
       "      <th>reviews_number</th>\n",
       "      <th>room_type</th>\n",
       "      <th>bed_type</th>\n",
       "      <th>address</th>\n",
       "      <th>metro</th>\n",
       "      <th>price</th>\n",
       "      <th>tax</th>\n",
       "    </tr>\n",
       "  </thead>\n",
       "  <tbody>\n",
       "    <tr>\n",
       "      <th>0</th>\n",
       "      <td>Dusit D2 Kenz Hotel Dubai</td>\n",
       "      <td>8.9</td>\n",
       "      <td>Fabulous</td>\n",
       "      <td>4,364 reviews</td>\n",
       "      <td>One-Bedroom Suite\\n – \\n\\n\\n\\n\\n\\nSleeps: 1 - ...</td>\n",
       "      <td>1 extra-large double bed</td>\n",
       "      <td>Barsha Heights (Tecom) , Dubai\\n\\n\\nShow on map</td>\n",
       "      <td>Metro access</td>\n",
       "      <td>Original price\\nAZN 510\\nCurrent price\\nAZN 281</td>\n",
       "      <td>+AZN 77 taxes and charges</td>\n",
       "    </tr>\n",
       "    <tr>\n",
       "      <th>1</th>\n",
       "      <td>Hyatt Regency Creek Heights Residences</td>\n",
       "      <td>8.3</td>\n",
       "      <td>Very good</td>\n",
       "      <td>7,726 reviews</td>\n",
       "      <td>Regency Room\\n – \\n\\n\\n\\n\\n\\nSleeps: 1 - 3 guests</td>\n",
       "      <td>Multiple bed types</td>\n",
       "      <td>Bur Dubai, Dubai\\n\\n\\nShow on map</td>\n",
       "      <td>Metro access</td>\n",
       "      <td>Price\\nAZN 139</td>\n",
       "      <td>+AZN 38 taxes and charges</td>\n",
       "    </tr>\n",
       "    <tr>\n",
       "      <th>2</th>\n",
       "      <td>Wyndham Dubai Marina</td>\n",
       "      <td>8.2</td>\n",
       "      <td>Very good</td>\n",
       "      <td>8,964 reviews</td>\n",
       "      <td>Staycation Package - Superior Room with Free B...</td>\n",
       "      <td>Multiple bed types</td>\n",
       "      <td>Dubai Marina, Dubai\\n\\n\\nShow on map</td>\n",
       "      <td>no metro</td>\n",
       "      <td>Price\\nAZN 194</td>\n",
       "      <td>+AZN 51 taxes and charges</td>\n",
       "    </tr>\n",
       "    <tr>\n",
       "      <th>3</th>\n",
       "      <td>Fairmont The Palm</td>\n",
       "      <td>8.3</td>\n",
       "      <td>Very good</td>\n",
       "      <td>4,467 reviews</td>\n",
       "      <td>Fairmont Gold Lounge King, Balcony\\n – \\n\\n\\n\\...</td>\n",
       "      <td>2 double beds</td>\n",
       "      <td>Palm Jumeirah, Dubai\\n\\n\\nShow on map</td>\n",
       "      <td>no metro</td>\n",
       "      <td>Price\\nAZN 603</td>\n",
       "      <td>+AZN 145 taxes and charges</td>\n",
       "    </tr>\n",
       "    <tr>\n",
       "      <th>4</th>\n",
       "      <td>Kempinski Hotel Mall of the Emirates</td>\n",
       "      <td>8.9</td>\n",
       "      <td>Fabulous</td>\n",
       "      <td>4,683 reviews</td>\n",
       "      <td>Superior Room\\n – \\n\\n\\n\\n\\n\\nSleeps: 1 - 2 gu...</td>\n",
       "      <td>Multiple bed types</td>\n",
       "      <td>Al Barsha, Dubai\\n\\n\\nShow on map</td>\n",
       "      <td>Metro access</td>\n",
       "      <td>Original price\\nAZN 374\\nCurrent price\\nAZN 345</td>\n",
       "      <td>+AZN 95 taxes and charges</td>\n",
       "    </tr>\n",
       "    <tr>\n",
       "      <th>5</th>\n",
       "      <td>Jumeirah Beach Hotel</td>\n",
       "      <td>8.5</td>\n",
       "      <td>Very good</td>\n",
       "      <td>2,213 reviews</td>\n",
       "      <td>Ocean View Deluxe - Wild Wadi Waterpark™ acces...</td>\n",
       "      <td>1 extra-large double bed</td>\n",
       "      <td>Umm Suqeim, Dubai\\n\\n\\nShow on map</td>\n",
       "      <td>no metro</td>\n",
       "      <td>Price\\nAZN 786</td>\n",
       "      <td>+AZN 186 taxes and charges</td>\n",
       "    </tr>\n",
       "    <tr>\n",
       "      <th>6</th>\n",
       "      <td>Mandarin Oriental Jumeira, Dubai</td>\n",
       "      <td>9.3</td>\n",
       "      <td>Superb</td>\n",
       "      <td>988 reviews</td>\n",
       "      <td>Deluxe Skyline View King Room\\n – \\n\\n\\n\\n\\n\\n...</td>\n",
       "      <td>1 extra-large double bed</td>\n",
       "      <td>Jumeirah, Dubai\\n\\n\\nShow on map</td>\n",
       "      <td>no metro</td>\n",
       "      <td>Original price\\nAZN 1,480\\nCurrent price\\nAZN ...</td>\n",
       "      <td>+AZN 348 taxes and charges</td>\n",
       "    </tr>\n",
       "    <tr>\n",
       "      <th>7</th>\n",
       "      <td>Swissôtel Al Ghurair Dubai</td>\n",
       "      <td>8.6</td>\n",
       "      <td>Fabulous</td>\n",
       "      <td>4,674 reviews</td>\n",
       "      <td>Classic Twin Room with free beach access\\n – \\...</td>\n",
       "      <td>3 beds\\n(2 singles, 1 futon)</td>\n",
       "      <td>Deira, Dubai\\n\\n\\nShow on map</td>\n",
       "      <td>Metro access</td>\n",
       "      <td>Price\\nAZN 129</td>\n",
       "      <td>+AZN 38 taxes and charges</td>\n",
       "    </tr>\n",
       "    <tr>\n",
       "      <th>8</th>\n",
       "      <td>Jumeirah Al Naseem</td>\n",
       "      <td>8.7</td>\n",
       "      <td>Fabulous</td>\n",
       "      <td>1,349 reviews</td>\n",
       "      <td>Resort Deluxe\\n – \\n\\n\\n\\n\\n\\nSleeps: 1 - 2 gu...</td>\n",
       "      <td>1 extra-large double bed</td>\n",
       "      <td>Umm Suqeim, Dubai\\n\\n\\nShow on map</td>\n",
       "      <td>no metro</td>\n",
       "      <td>Price\\nAZN 1,156</td>\n",
       "      <td>+AZN 269 taxes and charges</td>\n",
       "    </tr>\n",
       "    <tr>\n",
       "      <th>9</th>\n",
       "      <td>The Ritz-Carlton, Dubai</td>\n",
       "      <td>8.8</td>\n",
       "      <td>Fabulous</td>\n",
       "      <td>1,855 reviews</td>\n",
       "      <td>Deluxe Room\\n – \\n\\n\\n\\n\\n\\nSleeps: 1 - 3 guests</td>\n",
       "      <td>1 extra-large double bed</td>\n",
       "      <td>Jumeirah Beach Residence, Dubai\\n\\n\\nShow on map</td>\n",
       "      <td>no metro</td>\n",
       "      <td>Price\\nAZN 971</td>\n",
       "      <td>+AZN 228 taxes and charges</td>\n",
       "    </tr>\n",
       "  </tbody>\n",
       "</table>\n",
       "</div>"
      ],
      "text/plain": [
       "                                    hotel reviews_score reviews_text  \\\n",
       "0               Dusit D2 Kenz Hotel Dubai           8.9     Fabulous   \n",
       "1  Hyatt Regency Creek Heights Residences           8.3    Very good   \n",
       "2                    Wyndham Dubai Marina           8.2    Very good   \n",
       "3                       Fairmont The Palm           8.3    Very good   \n",
       "4    Kempinski Hotel Mall of the Emirates           8.9     Fabulous   \n",
       "5                    Jumeirah Beach Hotel           8.5    Very good   \n",
       "6        Mandarin Oriental Jumeira, Dubai           9.3       Superb   \n",
       "7              Swissôtel Al Ghurair Dubai           8.6     Fabulous   \n",
       "8                      Jumeirah Al Naseem           8.7     Fabulous   \n",
       "9                 The Ritz-Carlton, Dubai           8.8     Fabulous   \n",
       "\n",
       "  reviews_number                                          room_type  \\\n",
       "0  4,364 reviews  One-Bedroom Suite\\n – \\n\\n\\n\\n\\n\\nSleeps: 1 - ...   \n",
       "1  7,726 reviews  Regency Room\\n – \\n\\n\\n\\n\\n\\nSleeps: 1 - 3 guests   \n",
       "2  8,964 reviews  Staycation Package - Superior Room with Free B...   \n",
       "3  4,467 reviews  Fairmont Gold Lounge King, Balcony\\n – \\n\\n\\n\\...   \n",
       "4  4,683 reviews  Superior Room\\n – \\n\\n\\n\\n\\n\\nSleeps: 1 - 2 gu...   \n",
       "5  2,213 reviews  Ocean View Deluxe - Wild Wadi Waterpark™ acces...   \n",
       "6    988 reviews  Deluxe Skyline View King Room\\n – \\n\\n\\n\\n\\n\\n...   \n",
       "7  4,674 reviews  Classic Twin Room with free beach access\\n – \\...   \n",
       "8  1,349 reviews  Resort Deluxe\\n – \\n\\n\\n\\n\\n\\nSleeps: 1 - 2 gu...   \n",
       "9  1,855 reviews   Deluxe Room\\n – \\n\\n\\n\\n\\n\\nSleeps: 1 - 3 guests   \n",
       "\n",
       "                       bed_type  \\\n",
       "0      1 extra-large double bed   \n",
       "1            Multiple bed types   \n",
       "2            Multiple bed types   \n",
       "3                 2 double beds   \n",
       "4            Multiple bed types   \n",
       "5      1 extra-large double bed   \n",
       "6      1 extra-large double bed   \n",
       "7  3 beds\\n(2 singles, 1 futon)   \n",
       "8      1 extra-large double bed   \n",
       "9      1 extra-large double bed   \n",
       "\n",
       "                                            address         metro  \\\n",
       "0   Barsha Heights (Tecom) , Dubai\\n\\n\\nShow on map  Metro access   \n",
       "1                 Bur Dubai, Dubai\\n\\n\\nShow on map  Metro access   \n",
       "2              Dubai Marina, Dubai\\n\\n\\nShow on map      no metro   \n",
       "3             Palm Jumeirah, Dubai\\n\\n\\nShow on map      no metro   \n",
       "4                 Al Barsha, Dubai\\n\\n\\nShow on map  Metro access   \n",
       "5                Umm Suqeim, Dubai\\n\\n\\nShow on map      no metro   \n",
       "6                  Jumeirah, Dubai\\n\\n\\nShow on map      no metro   \n",
       "7                     Deira, Dubai\\n\\n\\nShow on map  Metro access   \n",
       "8                Umm Suqeim, Dubai\\n\\n\\nShow on map      no metro   \n",
       "9  Jumeirah Beach Residence, Dubai\\n\\n\\nShow on map      no metro   \n",
       "\n",
       "                                               price  \\\n",
       "0    Original price\\nAZN 510\\nCurrent price\\nAZN 281   \n",
       "1                                     Price\\nAZN 139   \n",
       "2                                     Price\\nAZN 194   \n",
       "3                                     Price\\nAZN 603   \n",
       "4    Original price\\nAZN 374\\nCurrent price\\nAZN 345   \n",
       "5                                     Price\\nAZN 786   \n",
       "6  Original price\\nAZN 1,480\\nCurrent price\\nAZN ...   \n",
       "7                                     Price\\nAZN 129   \n",
       "8                                   Price\\nAZN 1,156   \n",
       "9                                     Price\\nAZN 971   \n",
       "\n",
       "                          tax  \n",
       "0   +AZN 77 taxes and charges  \n",
       "1   +AZN 38 taxes and charges  \n",
       "2   +AZN 51 taxes and charges  \n",
       "3  +AZN 145 taxes and charges  \n",
       "4   +AZN 95 taxes and charges  \n",
       "5  +AZN 186 taxes and charges  \n",
       "6  +AZN 348 taxes and charges  \n",
       "7   +AZN 38 taxes and charges  \n",
       "8  +AZN 269 taxes and charges  \n",
       "9  +AZN 228 taxes and charges  "
      ]
     },
     "execution_count": 630,
     "metadata": {},
     "output_type": "execute_result"
    }
   ],
   "source": [
    "### convert scraped lists into a dataframe\n",
    "best_hotel_deal = pd.DataFrame(data=list(zip(hotel,\n",
    "                                             reviews_score, \n",
    "                                             reviews_text,\n",
    "                                             reviews_number,\n",
    "                                             room_type,\n",
    "                                             bed_type,\n",
    "                                             address,\n",
    "                                             metro,\n",
    "                                             price,\n",
    "                                             tax)),\n",
    "                               columns=['hotel', \n",
    "                                        'reviews_score', \n",
    "                                        'reviews_text', \n",
    "                                        'reviews_number', \n",
    "                                        'room_type', \n",
    "                                        'bed_type',\n",
    "                                        'address', \n",
    "                                        'metro', \n",
    "                                        'price', \n",
    "                                        'tax'])\n",
    "\n",
    "best_hotel_deal.head(10)"
   ]
  },
  {
   "cell_type": "code",
   "execution_count": 631,
   "metadata": {},
   "outputs": [],
   "source": [
    "### there are might be duplicates, will drop them\n",
    "best_hotel_deal = best_hotel_deal.drop_duplicates()"
   ]
  },
  {
   "cell_type": "code",
   "execution_count": 632,
   "metadata": {},
   "outputs": [
    {
     "name": "stdout",
     "output_type": "stream",
     "text": [
      "<class 'pandas.core.frame.DataFrame'>\n",
      "Int64Index: 768 entries, 0 to 870\n",
      "Data columns (total 10 columns):\n",
      " #   Column          Non-Null Count  Dtype \n",
      "---  ------          --------------  ----- \n",
      " 0   hotel           768 non-null    object\n",
      " 1   reviews_score   768 non-null    object\n",
      " 2   reviews_text    768 non-null    object\n",
      " 3   reviews_number  768 non-null    object\n",
      " 4   room_type       768 non-null    object\n",
      " 5   bed_type        768 non-null    object\n",
      " 6   address         768 non-null    object\n",
      " 7   metro           768 non-null    object\n",
      " 8   price           768 non-null    object\n",
      " 9   tax             768 non-null    object\n",
      "dtypes: object(10)\n",
      "memory usage: 66.0+ KB\n"
     ]
    }
   ],
   "source": [
    "best_hotel_deal.info()"
   ]
  },
  {
   "cell_type": "markdown",
   "metadata": {},
   "source": [
    "### Clean Data"
   ]
  },
  {
   "cell_type": "markdown",
   "metadata": {},
   "source": [
    "**Reviews Score**"
   ]
  },
  {
   "cell_type": "code",
   "execution_count": 633,
   "metadata": {},
   "outputs": [
    {
     "name": "stdout",
     "output_type": "stream",
     "text": [
      "Number of listings that do not have reviews:\n"
     ]
    },
    {
     "data": {
      "text/plain": [
       "196"
      ]
     },
     "execution_count": 633,
     "metadata": {},
     "output_type": "execute_result"
    }
   ],
   "source": [
    "print(\"Number of listings that do not have reviews:\")\n",
    "len(best_hotel_deal[best_hotel_deal['reviews_score']==''])"
   ]
  },
  {
   "cell_type": "code",
   "execution_count": 634,
   "metadata": {
    "tags": []
   },
   "outputs": [
    {
     "name": "stdout",
     "output_type": "stream",
     "text": [
      "----------------------------------------------------------------------\n",
      "Properties without reviews are most likely private type accomodations\n",
      "\n"
     ]
    },
    {
     "data": {
      "text/html": [
       "<div>\n",
       "<style scoped>\n",
       "    .dataframe tbody tr th:only-of-type {\n",
       "        vertical-align: middle;\n",
       "    }\n",
       "\n",
       "    .dataframe tbody tr th {\n",
       "        vertical-align: top;\n",
       "    }\n",
       "\n",
       "    .dataframe thead th {\n",
       "        text-align: right;\n",
       "    }\n",
       "</style>\n",
       "<table border=\"1\" class=\"dataframe\">\n",
       "  <thead>\n",
       "    <tr style=\"text-align: right;\">\n",
       "      <th></th>\n",
       "      <th>hotel</th>\n",
       "      <th>address</th>\n",
       "      <th>price</th>\n",
       "    </tr>\n",
       "  </thead>\n",
       "  <tbody>\n",
       "    <tr>\n",
       "      <th>493</th>\n",
       "      <td>Five Palm Beach Villa with Private Pool</td>\n",
       "      <td>Palm Jumeirah, Dubai\\n\\n\\nShow on map</td>\n",
       "      <td>Price\\nAZN 13,876</td>\n",
       "    </tr>\n",
       "    <tr>\n",
       "      <th>539</th>\n",
       "      <td>Five Palm Two bedroom Suite Sea View</td>\n",
       "      <td>Palm Jumeirah, Dubai\\n\\n\\nShow on map</td>\n",
       "      <td>Price\\nAZN 1,388</td>\n",
       "    </tr>\n",
       "    <tr>\n",
       "      <th>588</th>\n",
       "      <td>Astonishing 1BR in Fabulous Cayan Tower</td>\n",
       "      <td>Dubai Marina, Dubai\\n\\n\\nShow on map</td>\n",
       "      <td>Original price\\nAZN 214\\nCurrent price\\nAZN 203</td>\n",
       "    </tr>\n",
       "    <tr>\n",
       "      <th>595</th>\n",
       "      <td>1B-LoftC-104 by bnbmehomes</td>\n",
       "      <td>Downtown Dubai, Dubai\\n\\n\\nShow on map</td>\n",
       "      <td>Original price\\nAZN 323\\nCurrent price\\nAZN 306</td>\n",
       "    </tr>\n",
       "    <tr>\n",
       "      <th>599</th>\n",
       "      <td>HiGuests Vacation Homes - Al Majara 2</td>\n",
       "      <td>Dubai Marina, Dubai\\n\\n\\nShow on map</td>\n",
       "      <td>Original price\\nAZN 221\\nCurrent price\\nAZN 199</td>\n",
       "    </tr>\n",
       "    <tr>\n",
       "      <th>...</th>\n",
       "      <td>...</td>\n",
       "      <td>...</td>\n",
       "      <td>...</td>\n",
       "    </tr>\n",
       "    <tr>\n",
       "      <th>866</th>\n",
       "      <td>HiGuests Vacation Homes - Elite Residence Tower</td>\n",
       "      <td>Dubai Marina, Dubai\\n\\n\\nShow on map</td>\n",
       "      <td>Original price\\nAZN 242\\nCurrent price\\nAZN 211</td>\n",
       "    </tr>\n",
       "    <tr>\n",
       "      <th>867</th>\n",
       "      <td>Lux One bedroom Appartement in dubai for rent</td>\n",
       "      <td>Jumeirah Lakes Towers, Dubai\\n\\n\\nShow on map</td>\n",
       "      <td>Original price\\nAZN 293\\nCurrent price\\nAZN 270</td>\n",
       "    </tr>\n",
       "    <tr>\n",
       "      <th>868</th>\n",
       "      <td>DEC</td>\n",
       "      <td>Dubai Marina, Dubai\\n\\n\\nShow on map</td>\n",
       "      <td>Original price\\nAZN 463\\nCurrent price\\nAZN 426</td>\n",
       "    </tr>\n",
       "    <tr>\n",
       "      <th>869</th>\n",
       "      <td>Khaled alosmani</td>\n",
       "      <td>Al Barsha, Dubai\\n\\n\\nShow on map</td>\n",
       "      <td>Original price\\nAZN 1,041\\nCurrent price\\nAZN 959</td>\n",
       "    </tr>\n",
       "    <tr>\n",
       "      <th>870</th>\n",
       "      <td>Soft Dubai slim</td>\n",
       "      <td>Al Barsha, Dubai\\n\\n\\nShow on map</td>\n",
       "      <td>Original price\\nAZN 582\\nCurrent price\\nAZN 536</td>\n",
       "    </tr>\n",
       "  </tbody>\n",
       "</table>\n",
       "<p>196 rows × 3 columns</p>\n",
       "</div>"
      ],
      "text/plain": [
       "                                               hotel  \\\n",
       "493          Five Palm Beach Villa with Private Pool   \n",
       "539             Five Palm Two bedroom Suite Sea View   \n",
       "588          Astonishing 1BR in Fabulous Cayan Tower   \n",
       "595                       1B-LoftC-104 by bnbmehomes   \n",
       "599            HiGuests Vacation Homes - Al Majara 2   \n",
       "..                                               ...   \n",
       "866  HiGuests Vacation Homes - Elite Residence Tower   \n",
       "867    Lux One bedroom Appartement in dubai for rent   \n",
       "868                                              DEC   \n",
       "869                                  Khaled alosmani   \n",
       "870                                  Soft Dubai slim   \n",
       "\n",
       "                                           address  \\\n",
       "493          Palm Jumeirah, Dubai\\n\\n\\nShow on map   \n",
       "539          Palm Jumeirah, Dubai\\n\\n\\nShow on map   \n",
       "588           Dubai Marina, Dubai\\n\\n\\nShow on map   \n",
       "595         Downtown Dubai, Dubai\\n\\n\\nShow on map   \n",
       "599           Dubai Marina, Dubai\\n\\n\\nShow on map   \n",
       "..                                             ...   \n",
       "866           Dubai Marina, Dubai\\n\\n\\nShow on map   \n",
       "867  Jumeirah Lakes Towers, Dubai\\n\\n\\nShow on map   \n",
       "868           Dubai Marina, Dubai\\n\\n\\nShow on map   \n",
       "869              Al Barsha, Dubai\\n\\n\\nShow on map   \n",
       "870              Al Barsha, Dubai\\n\\n\\nShow on map   \n",
       "\n",
       "                                                 price  \n",
       "493                                  Price\\nAZN 13,876  \n",
       "539                                   Price\\nAZN 1,388  \n",
       "588    Original price\\nAZN 214\\nCurrent price\\nAZN 203  \n",
       "595    Original price\\nAZN 323\\nCurrent price\\nAZN 306  \n",
       "599    Original price\\nAZN 221\\nCurrent price\\nAZN 199  \n",
       "..                                                 ...  \n",
       "866    Original price\\nAZN 242\\nCurrent price\\nAZN 211  \n",
       "867    Original price\\nAZN 293\\nCurrent price\\nAZN 270  \n",
       "868    Original price\\nAZN 463\\nCurrent price\\nAZN 426  \n",
       "869  Original price\\nAZN 1,041\\nCurrent price\\nAZN 959  \n",
       "870    Original price\\nAZN 582\\nCurrent price\\nAZN 536  \n",
       "\n",
       "[196 rows x 3 columns]"
      ]
     },
     "execution_count": 634,
     "metadata": {},
     "output_type": "execute_result"
    }
   ],
   "source": [
    "print('-'*70)\n",
    "print(\"Properties without reviews are most likely private type accomodations\")\n",
    "print('')\n",
    "\n",
    "best_hotel_deal[best_hotel_deal['reviews_score']==''][['hotel', 'address', 'price']]"
   ]
  },
  {
   "cell_type": "code",
   "execution_count": 635,
   "metadata": {},
   "outputs": [
    {
     "name": "stdout",
     "output_type": "stream",
     "text": [
      "----------------------------------------------------------------------\n",
      "I am interested in hotels only, will drop records which are not for Hotels (w/o reviews),\n",
      "end up with the set of the following ratings:\n",
      "\n"
     ]
    },
    {
     "data": {
      "text/plain": [
       "array(['8.9', '8.3', '8.2', '8.5', '9.3', '8.6', '8.7', '8.8', '8.1',\n",
       "       '9.1', '9.0', '7.4', '9.2', '7.7', '7.9', '8.4', '8.0', '7.0',\n",
       "       '7.2', '9.4', '7.5', '7.6', '7.8', '6.5', '6.2', '6.6', '4.9',\n",
       "       '7.3', '6.8', '5.8', '6.4', '7.1', '6.3', '5.0', '6.1', '5.4',\n",
       "       '6.0', '6.9', '5.3', '4.5', '5.9', '5.5', '3.9', '4.3', '5.6',\n",
       "       '6.7', '9.7', '1.5', '5.2', '2.6', '4.4', '3.1', '9.5', '3.7',\n",
       "       '5.1', '1.2', '3.8', '9.6', '4.0', '3.4', '3.6', '10', '9.9'],\n",
       "      dtype=object)"
      ]
     },
     "execution_count": 635,
     "metadata": {},
     "output_type": "execute_result"
    }
   ],
   "source": [
    "print('-'*70)\n",
    "print(\"I am interested in hotels only, will drop records which are not for Hotels (w/o reviews),\\nend up with the set of the following ratings:\")\n",
    "print('')\n",
    "best_hotel_deal = best_hotel_deal[best_hotel_deal['reviews_score']!=''].copy()\n",
    "best_hotel_deal.reviews_score.unique()"
   ]
  },
  {
   "cell_type": "code",
   "execution_count": 636,
   "metadata": {},
   "outputs": [],
   "source": [
    "### reviews_score: change to decimal\n",
    "\n",
    "### function\n",
    "def convert_reviews_score(text):\n",
    "    review = float(text)\n",
    "    return review\n",
    "\n",
    "### apply function to df\n",
    "best_hotel_deal.reviews_score = best_hotel_deal.reviews_score.apply(lambda x: convert_reviews_score(x))"
   ]
  },
  {
   "cell_type": "markdown",
   "metadata": {},
   "source": [
    "**Reviews number**"
   ]
  },
  {
   "cell_type": "code",
   "execution_count": 637,
   "metadata": {},
   "outputs": [
    {
     "name": "stdout",
     "output_type": "stream",
     "text": [
      "This shall be numerical feature, convert accordingly:\n",
      "\n"
     ]
    },
    {
     "data": {
      "text/plain": [
       "array(['4,364 reviews', '7,726 reviews', '8,964 reviews', '4,467 reviews',\n",
       "       '4,683 reviews'], dtype=object)"
      ]
     },
     "execution_count": 637,
     "metadata": {},
     "output_type": "execute_result"
    }
   ],
   "source": [
    "print(\"This shall be numerical feature, convert accordingly:\")\n",
    "print('')\n",
    "best_hotel_deal.reviews_number.unique()[:5]"
   ]
  },
  {
   "cell_type": "code",
   "execution_count": 638,
   "metadata": {},
   "outputs": [],
   "source": [
    "### function\n",
    "def convert_reviews_number(text):\n",
    "    cleaned_text = text.replace(' reviews', '').replace(\",\",\"\")\n",
    "    review = int(cleaned_text)\n",
    "    return review\n",
    "\n",
    "### apply function\n",
    "best_hotel_deal.reviews_number = best_hotel_deal.reviews_number.apply(lambda x: convert_reviews_number(x))"
   ]
  },
  {
   "cell_type": "markdown",
   "metadata": {},
   "source": [
    "**Reviews text**"
   ]
  },
  {
   "cell_type": "code",
   "execution_count": 639,
   "metadata": {},
   "outputs": [
    {
     "name": "stdout",
     "output_type": "stream",
     "text": [
      "----------------------------------------------------------------------\n",
      "Rating titled[review score] is not informative,\n",
      "let's understand relation between score and rating:\n",
      "\n"
     ]
    },
    {
     "data": {
      "text/plain": [
       "array(['Fabulous', 'Very good', 'Superb', 'Good', 'Review score',\n",
       "       'Exceptional'], dtype=object)"
      ]
     },
     "execution_count": 639,
     "metadata": {},
     "output_type": "execute_result"
    }
   ],
   "source": [
    "print('-'*70)\n",
    "print(\"Rating titled[review score] is not informative,\\nlet's understand relation between score and rating:\")\n",
    "print('')\n",
    "best_hotel_deal.reviews_text.unique()"
   ]
  },
  {
   "cell_type": "code",
   "execution_count": 640,
   "metadata": {},
   "outputs": [
    {
     "name": "stdout",
     "output_type": "stream",
     "text": [
      "----------------------------------------------------------------------\n",
      "Statistical summary for hotels guests rated as Exceptional\n",
      "\n"
     ]
    },
    {
     "data": {
      "text/plain": [
       "count     7.000000\n",
       "mean      9.771429\n",
       "std       0.197605\n",
       "min       9.500000\n",
       "25%       9.650000\n",
       "50%       9.700000\n",
       "75%       9.950000\n",
       "max      10.000000\n",
       "Name: reviews_score, dtype: float64"
      ]
     },
     "execution_count": 640,
     "metadata": {},
     "output_type": "execute_result"
    }
   ],
   "source": [
    "print('-'*70)\n",
    "print(\"Statistical summary for hotels guests rated as Exceptional\")\n",
    "print('')\n",
    "best_hotel_deal[best_hotel_deal['reviews_text']=='Exceptional']['reviews_score'].describe()"
   ]
  },
  {
   "cell_type": "code",
   "execution_count": 641,
   "metadata": {},
   "outputs": [
    {
     "name": "stdout",
     "output_type": "stream",
     "text": [
      "----------------------------------------------------------------------\n",
      "Statistical summary for hotels guests rated as Superb\n",
      "\n"
     ]
    },
    {
     "data": {
      "text/plain": [
       "count    42.000000\n",
       "mean      9.109524\n",
       "std       0.114358\n",
       "min       9.000000\n",
       "25%       9.000000\n",
       "50%       9.100000\n",
       "75%       9.200000\n",
       "max       9.400000\n",
       "Name: reviews_score, dtype: float64"
      ]
     },
     "execution_count": 641,
     "metadata": {},
     "output_type": "execute_result"
    }
   ],
   "source": [
    "print('-'*70)\n",
    "print(\"Statistical summary for hotels guests rated as Superb\")\n",
    "print('')\n",
    "best_hotel_deal[best_hotel_deal['reviews_text']=='Superb']['reviews_score'].describe()"
   ]
  },
  {
   "cell_type": "code",
   "execution_count": 642,
   "metadata": {},
   "outputs": [
    {
     "name": "stdout",
     "output_type": "stream",
     "text": [
      "----------------------------------------------------------------------\n",
      "Statistical summary for hotels guests rated as Fabulous\n",
      "\n"
     ]
    },
    {
     "data": {
      "text/plain": [
       "count    91.000000\n",
       "mean      8.732967\n",
       "std       0.106515\n",
       "min       8.600000\n",
       "25%       8.600000\n",
       "50%       8.700000\n",
       "75%       8.800000\n",
       "max       8.900000\n",
       "Name: reviews_score, dtype: float64"
      ]
     },
     "execution_count": 642,
     "metadata": {},
     "output_type": "execute_result"
    }
   ],
   "source": [
    "print('-'*70)\n",
    "print(\"Statistical summary for hotels guests rated as Fabulous\")\n",
    "print('')\n",
    "best_hotel_deal[best_hotel_deal['reviews_text']=='Fabulous']['reviews_score'].describe()"
   ]
  },
  {
   "cell_type": "code",
   "execution_count": 643,
   "metadata": {},
   "outputs": [
    {
     "name": "stdout",
     "output_type": "stream",
     "text": [
      "----------------------------------------------------------------------\n",
      "Statistical summary for hotels guests rated as Very good\n",
      "\n"
     ]
    },
    {
     "data": {
      "text/plain": [
       "count    184.000000\n",
       "mean       8.264674\n",
       "std        0.166618\n",
       "min        8.000000\n",
       "25%        8.100000\n",
       "50%        8.300000\n",
       "75%        8.400000\n",
       "max        8.500000\n",
       "Name: reviews_score, dtype: float64"
      ]
     },
     "execution_count": 643,
     "metadata": {},
     "output_type": "execute_result"
    }
   ],
   "source": [
    "print('-'*70)\n",
    "print(\"Statistical summary for hotels guests rated as Very good\")\n",
    "print('')\n",
    "best_hotel_deal[best_hotel_deal['reviews_text']=='Very good']['reviews_score'].describe()"
   ]
  },
  {
   "cell_type": "code",
   "execution_count": 644,
   "metadata": {},
   "outputs": [
    {
     "name": "stdout",
     "output_type": "stream",
     "text": [
      "----------------------------------------------------------------------\n",
      "Statistical summary for hotels guests rated as Good\n",
      "\n"
     ]
    },
    {
     "data": {
      "text/plain": [
       "count    137.000000\n",
       "mean       7.524818\n",
       "std        0.304810\n",
       "min        7.000000\n",
       "25%        7.300000\n",
       "50%        7.600000\n",
       "75%        7.800000\n",
       "max        7.900000\n",
       "Name: reviews_score, dtype: float64"
      ]
     },
     "execution_count": 644,
     "metadata": {},
     "output_type": "execute_result"
    }
   ],
   "source": [
    "print('-'*70)\n",
    "print(\"Statistical summary for hotels guests rated as Good\")\n",
    "print('')\n",
    "best_hotel_deal[best_hotel_deal['reviews_text']=='Good']['reviews_score'].describe()"
   ]
  },
  {
   "cell_type": "code",
   "execution_count": 645,
   "metadata": {},
   "outputs": [
    {
     "name": "stdout",
     "output_type": "stream",
     "text": [
      "----------------------------------------------------------------------\n",
      "Statistical summary for hotels, guests did not rate [Review score]\n",
      "\n"
     ]
    },
    {
     "data": {
      "text/plain": [
       "count    111.000000\n",
       "mean       5.745045\n",
       "std        1.146595\n",
       "min        1.200000\n",
       "25%        5.350000\n",
       "50%        6.100000\n",
       "75%        6.500000\n",
       "max        6.900000\n",
       "Name: reviews_score, dtype: float64"
      ]
     },
     "execution_count": 645,
     "metadata": {},
     "output_type": "execute_result"
    }
   ],
   "source": [
    "print('-'*70)\n",
    "print(\"Statistical summary for hotels, guests did not rate [Review score]\")\n",
    "print('')\n",
    "best_hotel_deal[best_hotel_deal['reviews_text']=='Review score']['reviews_score'].describe()"
   ]
  },
  {
   "cell_type": "code",
   "execution_count": 646,
   "metadata": {},
   "outputs": [
    {
     "name": "stdout",
     "output_type": "stream",
     "text": [
      "Hence [Review score] refers to lowest rating by guests.\n",
      "\n",
      "Reviews text feature might be redundant as we have reviews score,\n",
      "However I will keep it for time being, but will change format to ordered 6-1\n",
      "\n"
     ]
    }
   ],
   "source": [
    "print(\"Hence [Review score] refers to lowest rating by guests.\")\n",
    "print(\"\")\n",
    "print(\"Reviews text feature might be redundant as we have reviews score,\")\n",
    "print(\"However I will keep it for time being, but will change format to ordered 6-1\")\n",
    "print('')"
   ]
  },
  {
   "cell_type": "code",
   "execution_count": 647,
   "metadata": {},
   "outputs": [],
   "source": [
    "### function\n",
    "def convert_reviews_text(text):\n",
    "    if text=='Exceptional':\n",
    "        rating = 6\n",
    "    elif text=='Superb':\n",
    "        rating = 5\n",
    "    elif text=='Fabulous':\n",
    "        rating = 4\n",
    "    elif text=='Very good':\n",
    "        rating = 3\n",
    "    elif text=='Good':\n",
    "        rating = 2\n",
    "    else:\n",
    "        rating = 1\n",
    "    return rating\n",
    "\n",
    "### apply function\n",
    "best_hotel_deal.reviews_text = best_hotel_deal.reviews_text.apply(lambda x: convert_reviews_text(x))"
   ]
  },
  {
   "cell_type": "markdown",
   "metadata": {},
   "source": [
    "**Room type**"
   ]
  },
  {
   "cell_type": "code",
   "execution_count": 648,
   "metadata": {},
   "outputs": [],
   "source": [
    "### need to clean it further:\n",
    "rooms = ['Deluxe', 'King', 'Regency', 'Superior', 'Premium', \n",
    "         'Standard', 'Twin Room', '2 Bedroom', 'Two-Bedroom', \n",
    "         'Studio','One-Bedroom', 'Classic', 'Suite']### all others to be classified 'other'\n",
    "\n",
    "### function\n",
    "def clean_room_type(text):\n",
    "    room_cleaned = text.splitlines()[0]\n",
    "    if room_cleaned in rooms:\n",
    "        room = room_cleaned\n",
    "    else:\n",
    "        room = 'other'\n",
    "    return room\n",
    "\n",
    "### apply function\n",
    "best_hotel_deal.room_type = best_hotel_deal.room_type.apply(lambda x: clean_room_type(x))"
   ]
  },
  {
   "cell_type": "markdown",
   "metadata": {},
   "source": [
    "**Bed type**"
   ]
  },
  {
   "cell_type": "code",
   "execution_count": 649,
   "metadata": {},
   "outputs": [],
   "source": [
    "### beds classification list\n",
    "beds = ['1 extra-large double bed', \n",
    "        '1 large double bed',\n",
    "        '1 double bed',\n",
    "        '1 single bed',\n",
    "        '2 large double beds',\n",
    "        '2 double beds',\n",
    "        '2 single beds']### all others to be classified 'other'\n",
    "\n",
    "### function\n",
    "def convert_bed_type(text):\n",
    "    try:\n",
    "        bed_cleaned = text.splitlines()[0]\n",
    "    except Exception:\n",
    "        bed_cleaned = text.splitlines()\n",
    "    if bed_cleaned in beds:\n",
    "        bed = bed_cleaned\n",
    "    else:\n",
    "        bed = 'other'\n",
    "    return bed\n",
    "\n",
    "### apply function\n",
    "best_hotel_deal.bed_type = best_hotel_deal.bed_type.apply(lambda x: convert_bed_type(x))"
   ]
  },
  {
   "cell_type": "markdown",
   "metadata": {},
   "source": [
    "**Address**"
   ]
  },
  {
   "cell_type": "code",
   "execution_count": 650,
   "metadata": {},
   "outputs": [],
   "source": [
    "### function\n",
    "def clean_address(text):\n",
    "    address = text.split(\",\")[0].splitlines()[0]\n",
    "    return address\n",
    "\n",
    "### apply function\n",
    "best_hotel_deal.address = best_hotel_deal.address.apply(lambda x: clean_address(x))"
   ]
  },
  {
   "cell_type": "markdown",
   "metadata": {},
   "source": [
    "**Price**"
   ]
  },
  {
   "cell_type": "code",
   "execution_count": 651,
   "metadata": {},
   "outputs": [],
   "source": [
    "### prices are in AZN\n",
    "\n",
    "### function\n",
    "def clean_price(text):\n",
    "    import unidecode\n",
    "    cleaned_price = unidecode.unidecode(text.splitlines()[-1]).replace(\"AZN\", \"\").replace(\",\",\"\").strip()\n",
    "    cleaned_price = int(cleaned_price)\n",
    "    return cleaned_price\n",
    "\n",
    "### apply function\n",
    "best_hotel_deal.price = best_hotel_deal.price.apply(lambda x: clean_price(x))"
   ]
  },
  {
   "cell_type": "markdown",
   "metadata": {},
   "source": [
    "**Tax**"
   ]
  },
  {
   "cell_type": "code",
   "execution_count": 652,
   "metadata": {},
   "outputs": [],
   "source": [
    "### tax in AZN\n",
    "\n",
    "### function\n",
    "def clean_tax(text):\n",
    "    import unidecode\n",
    "    if \"Includes\" in text:\n",
    "        cleaned_tax = 0\n",
    "    else:\n",
    "        cleaned_tax = unidecode.unidecode(text).\\\n",
    "            replace(\"taxes and charges\", \"\").\\\n",
    "            replace(\"+AZN\", \"\").\\\n",
    "            replace(\"Additional charges may apply\", \"\").\\\n",
    "            replace(\",\",\"\").strip()\n",
    "        if cleaned_tax == '':\n",
    "            cleaned_tax = 0\n",
    "        else:\n",
    "            cleaned_tax = int(cleaned_tax)\n",
    "    return cleaned_tax\n",
    "\n",
    "### apply function\n",
    "best_hotel_deal.tax = best_hotel_deal.tax.apply(lambda x: clean_tax(x))"
   ]
  },
  {
   "cell_type": "markdown",
   "metadata": {},
   "source": [
    "**Total Price in USD**"
   ]
  },
  {
   "cell_type": "code",
   "execution_count": 653,
   "metadata": {},
   "outputs": [
    {
     "data": {
      "text/html": [
       "<div>\n",
       "<style scoped>\n",
       "    .dataframe tbody tr th:only-of-type {\n",
       "        vertical-align: middle;\n",
       "    }\n",
       "\n",
       "    .dataframe tbody tr th {\n",
       "        vertical-align: top;\n",
       "    }\n",
       "\n",
       "    .dataframe thead th {\n",
       "        text-align: right;\n",
       "    }\n",
       "</style>\n",
       "<table border=\"1\" class=\"dataframe\">\n",
       "  <thead>\n",
       "    <tr style=\"text-align: right;\">\n",
       "      <th></th>\n",
       "      <th>hotel</th>\n",
       "      <th>reviews_score</th>\n",
       "      <th>reviews_text</th>\n",
       "      <th>reviews_number</th>\n",
       "      <th>room_type</th>\n",
       "      <th>bed_type</th>\n",
       "      <th>address</th>\n",
       "      <th>metro</th>\n",
       "      <th>price</th>\n",
       "      <th>tax</th>\n",
       "      <th>total_price_USD</th>\n",
       "    </tr>\n",
       "  </thead>\n",
       "  <tbody>\n",
       "    <tr>\n",
       "      <th>0</th>\n",
       "      <td>Dusit D2 Kenz Hotel Dubai</td>\n",
       "      <td>8.9</td>\n",
       "      <td>4</td>\n",
       "      <td>4364</td>\n",
       "      <td>other</td>\n",
       "      <td>1 extra-large double bed</td>\n",
       "      <td>Barsha Heights (Tecom)</td>\n",
       "      <td>Metro access</td>\n",
       "      <td>281</td>\n",
       "      <td>77</td>\n",
       "      <td>211</td>\n",
       "    </tr>\n",
       "    <tr>\n",
       "      <th>1</th>\n",
       "      <td>Hyatt Regency Creek Heights Residences</td>\n",
       "      <td>8.3</td>\n",
       "      <td>3</td>\n",
       "      <td>7726</td>\n",
       "      <td>other</td>\n",
       "      <td>other</td>\n",
       "      <td>Bur Dubai</td>\n",
       "      <td>Metro access</td>\n",
       "      <td>139</td>\n",
       "      <td>38</td>\n",
       "      <td>104</td>\n",
       "    </tr>\n",
       "    <tr>\n",
       "      <th>2</th>\n",
       "      <td>Wyndham Dubai Marina</td>\n",
       "      <td>8.2</td>\n",
       "      <td>3</td>\n",
       "      <td>8964</td>\n",
       "      <td>other</td>\n",
       "      <td>other</td>\n",
       "      <td>Dubai Marina</td>\n",
       "      <td>no metro</td>\n",
       "      <td>194</td>\n",
       "      <td>51</td>\n",
       "      <td>144</td>\n",
       "    </tr>\n",
       "    <tr>\n",
       "      <th>3</th>\n",
       "      <td>Fairmont The Palm</td>\n",
       "      <td>8.3</td>\n",
       "      <td>3</td>\n",
       "      <td>4467</td>\n",
       "      <td>other</td>\n",
       "      <td>2 double beds</td>\n",
       "      <td>Palm Jumeirah</td>\n",
       "      <td>no metro</td>\n",
       "      <td>603</td>\n",
       "      <td>145</td>\n",
       "      <td>440</td>\n",
       "    </tr>\n",
       "    <tr>\n",
       "      <th>4</th>\n",
       "      <td>Kempinski Hotel Mall of the Emirates</td>\n",
       "      <td>8.9</td>\n",
       "      <td>4</td>\n",
       "      <td>4683</td>\n",
       "      <td>other</td>\n",
       "      <td>other</td>\n",
       "      <td>Al Barsha</td>\n",
       "      <td>Metro access</td>\n",
       "      <td>345</td>\n",
       "      <td>95</td>\n",
       "      <td>259</td>\n",
       "    </tr>\n",
       "    <tr>\n",
       "      <th>...</th>\n",
       "      <td>...</td>\n",
       "      <td>...</td>\n",
       "      <td>...</td>\n",
       "      <td>...</td>\n",
       "      <td>...</td>\n",
       "      <td>...</td>\n",
       "      <td>...</td>\n",
       "      <td>...</td>\n",
       "      <td>...</td>\n",
       "      <td>...</td>\n",
       "      <td>...</td>\n",
       "    </tr>\n",
       "    <tr>\n",
       "      <th>763</th>\n",
       "      <td>Studio with Burj View in Address Dubai Mall</td>\n",
       "      <td>8.3</td>\n",
       "      <td>3</td>\n",
       "      <td>3</td>\n",
       "      <td>other</td>\n",
       "      <td>1 double bed</td>\n",
       "      <td>Downtown Dubai</td>\n",
       "      <td>no metro</td>\n",
       "      <td>301</td>\n",
       "      <td>114</td>\n",
       "      <td>244</td>\n",
       "    </tr>\n",
       "    <tr>\n",
       "      <th>765</th>\n",
       "      <td>2B-CW10-703 by bnbmehomes</td>\n",
       "      <td>9.0</td>\n",
       "      <td>5</td>\n",
       "      <td>3</td>\n",
       "      <td>other</td>\n",
       "      <td>other</td>\n",
       "      <td>Al Wasl</td>\n",
       "      <td>no metro</td>\n",
       "      <td>630</td>\n",
       "      <td>146</td>\n",
       "      <td>456</td>\n",
       "    </tr>\n",
       "    <tr>\n",
       "      <th>779</th>\n",
       "      <td>Room for travellers</td>\n",
       "      <td>7.0</td>\n",
       "      <td>2</td>\n",
       "      <td>3</td>\n",
       "      <td>other</td>\n",
       "      <td>1 single bed</td>\n",
       "      <td>Al Qusais</td>\n",
       "      <td>no metro</td>\n",
       "      <td>46</td>\n",
       "      <td>43</td>\n",
       "      <td>52</td>\n",
       "    </tr>\n",
       "    <tr>\n",
       "      <th>784</th>\n",
       "      <td>2b-GrandeurMughal-30GA by bnbmehomes</td>\n",
       "      <td>6.3</td>\n",
       "      <td>1</td>\n",
       "      <td>3</td>\n",
       "      <td>other</td>\n",
       "      <td>other</td>\n",
       "      <td>Palm Jumeirah</td>\n",
       "      <td>no metro</td>\n",
       "      <td>710</td>\n",
       "      <td>147</td>\n",
       "      <td>504</td>\n",
       "    </tr>\n",
       "    <tr>\n",
       "      <th>848</th>\n",
       "      <td>Dubai Jbr Amazing Penthouse With Stunning View</td>\n",
       "      <td>9.9</td>\n",
       "      <td>6</td>\n",
       "      <td>5</td>\n",
       "      <td>other</td>\n",
       "      <td>other</td>\n",
       "      <td>Jumeirah Beach Residence</td>\n",
       "      <td>no metro</td>\n",
       "      <td>989</td>\n",
       "      <td>778</td>\n",
       "      <td>1039</td>\n",
       "    </tr>\n",
       "  </tbody>\n",
       "</table>\n",
       "<p>572 rows × 11 columns</p>\n",
       "</div>"
      ],
      "text/plain": [
       "                                              hotel  reviews_score  \\\n",
       "0                         Dusit D2 Kenz Hotel Dubai            8.9   \n",
       "1            Hyatt Regency Creek Heights Residences            8.3   \n",
       "2                              Wyndham Dubai Marina            8.2   \n",
       "3                                 Fairmont The Palm            8.3   \n",
       "4              Kempinski Hotel Mall of the Emirates            8.9   \n",
       "..                                              ...            ...   \n",
       "763     Studio with Burj View in Address Dubai Mall            8.3   \n",
       "765                       2B-CW10-703 by bnbmehomes            9.0   \n",
       "779                             Room for travellers            7.0   \n",
       "784            2b-GrandeurMughal-30GA by bnbmehomes            6.3   \n",
       "848  Dubai Jbr Amazing Penthouse With Stunning View            9.9   \n",
       "\n",
       "     reviews_text  reviews_number room_type                  bed_type  \\\n",
       "0               4            4364     other  1 extra-large double bed   \n",
       "1               3            7726     other                     other   \n",
       "2               3            8964     other                     other   \n",
       "3               3            4467     other             2 double beds   \n",
       "4               4            4683     other                     other   \n",
       "..            ...             ...       ...                       ...   \n",
       "763             3               3     other              1 double bed   \n",
       "765             5               3     other                     other   \n",
       "779             2               3     other              1 single bed   \n",
       "784             1               3     other                     other   \n",
       "848             6               5     other                     other   \n",
       "\n",
       "                      address         metro  price  tax  total_price_USD  \n",
       "0     Barsha Heights (Tecom)   Metro access    281   77              211  \n",
       "1                   Bur Dubai  Metro access    139   38              104  \n",
       "2                Dubai Marina      no metro    194   51              144  \n",
       "3               Palm Jumeirah      no metro    603  145              440  \n",
       "4                   Al Barsha  Metro access    345   95              259  \n",
       "..                        ...           ...    ...  ...              ...  \n",
       "763            Downtown Dubai      no metro    301  114              244  \n",
       "765                   Al Wasl      no metro    630  146              456  \n",
       "779                 Al Qusais      no metro     46   43               52  \n",
       "784             Palm Jumeirah      no metro    710  147              504  \n",
       "848  Jumeirah Beach Residence      no metro    989  778             1039  \n",
       "\n",
       "[572 rows x 11 columns]"
      ]
     },
     "execution_count": 653,
     "metadata": {},
     "output_type": "execute_result"
    }
   ],
   "source": [
    "### add price and tax and convert total price to USD\n",
    "best_hotel_deal['total_price_USD'] = best_hotel_deal['price'] + best_hotel_deal['tax']\n",
    "best_hotel_deal['total_price_USD'] = best_hotel_deal['total_price_USD'].apply(lambda x: round(x/1.7))\n",
    "best_hotel_deal"
   ]
  },
  {
   "cell_type": "markdown",
   "metadata": {},
   "source": [
    "### Exploratory Data Analysis"
   ]
  },
  {
   "cell_type": "code",
   "execution_count": 654,
   "metadata": {},
   "outputs": [
    {
     "data": {
      "text/html": [
       "<div>\n",
       "<style scoped>\n",
       "    .dataframe tbody tr th:only-of-type {\n",
       "        vertical-align: middle;\n",
       "    }\n",
       "\n",
       "    .dataframe tbody tr th {\n",
       "        vertical-align: top;\n",
       "    }\n",
       "\n",
       "    .dataframe thead th {\n",
       "        text-align: right;\n",
       "    }\n",
       "</style>\n",
       "<table border=\"1\" class=\"dataframe\">\n",
       "  <thead>\n",
       "    <tr style=\"text-align: right;\">\n",
       "      <th></th>\n",
       "      <th>reviews_score</th>\n",
       "      <th>reviews_text</th>\n",
       "      <th>reviews_number</th>\n",
       "      <th>price</th>\n",
       "      <th>tax</th>\n",
       "      <th>total_price_USD</th>\n",
       "    </tr>\n",
       "  </thead>\n",
       "  <tbody>\n",
       "    <tr>\n",
       "      <th>count</th>\n",
       "      <td>572.000000</td>\n",
       "      <td>572.000000</td>\n",
       "      <td>572.000000</td>\n",
       "      <td>572.000000</td>\n",
       "      <td>572.000000</td>\n",
       "      <td>572.000000</td>\n",
       "    </tr>\n",
       "    <tr>\n",
       "      <th>mean</th>\n",
       "      <td>7.753497</td>\n",
       "      <td>2.715035</td>\n",
       "      <td>1525.909091</td>\n",
       "      <td>213.594406</td>\n",
       "      <td>61.723776</td>\n",
       "      <td>161.935315</td>\n",
       "    </tr>\n",
       "    <tr>\n",
       "      <th>std</th>\n",
       "      <td>1.227361</td>\n",
       "      <td>1.224781</td>\n",
       "      <td>2023.756071</td>\n",
       "      <td>293.434007</td>\n",
       "      <td>82.802979</td>\n",
       "      <td>214.689768</td>\n",
       "    </tr>\n",
       "    <tr>\n",
       "      <th>min</th>\n",
       "      <td>1.200000</td>\n",
       "      <td>1.000000</td>\n",
       "      <td>3.000000</td>\n",
       "      <td>6.000000</td>\n",
       "      <td>0.000000</td>\n",
       "      <td>8.000000</td>\n",
       "    </tr>\n",
       "    <tr>\n",
       "      <th>25%</th>\n",
       "      <td>7.200000</td>\n",
       "      <td>2.000000</td>\n",
       "      <td>140.500000</td>\n",
       "      <td>56.750000</td>\n",
       "      <td>19.000000</td>\n",
       "      <td>44.750000</td>\n",
       "    </tr>\n",
       "    <tr>\n",
       "      <th>50%</th>\n",
       "      <td>8.100000</td>\n",
       "      <td>3.000000</td>\n",
       "      <td>905.000000</td>\n",
       "      <td>92.000000</td>\n",
       "      <td>28.000000</td>\n",
       "      <td>70.500000</td>\n",
       "    </tr>\n",
       "    <tr>\n",
       "      <th>75%</th>\n",
       "      <td>8.500000</td>\n",
       "      <td>3.000000</td>\n",
       "      <td>1991.000000</td>\n",
       "      <td>238.250000</td>\n",
       "      <td>73.000000</td>\n",
       "      <td>185.250000</td>\n",
       "    </tr>\n",
       "    <tr>\n",
       "      <th>max</th>\n",
       "      <td>10.000000</td>\n",
       "      <td>6.000000</td>\n",
       "      <td>14701.000000</td>\n",
       "      <td>2544.000000</td>\n",
       "      <td>778.000000</td>\n",
       "      <td>1839.000000</td>\n",
       "    </tr>\n",
       "  </tbody>\n",
       "</table>\n",
       "</div>"
      ],
      "text/plain": [
       "       reviews_score  reviews_text  reviews_number        price         tax  \\\n",
       "count     572.000000    572.000000      572.000000   572.000000  572.000000   \n",
       "mean        7.753497      2.715035     1525.909091   213.594406   61.723776   \n",
       "std         1.227361      1.224781     2023.756071   293.434007   82.802979   \n",
       "min         1.200000      1.000000        3.000000     6.000000    0.000000   \n",
       "25%         7.200000      2.000000      140.500000    56.750000   19.000000   \n",
       "50%         8.100000      3.000000      905.000000    92.000000   28.000000   \n",
       "75%         8.500000      3.000000     1991.000000   238.250000   73.000000   \n",
       "max        10.000000      6.000000    14701.000000  2544.000000  778.000000   \n",
       "\n",
       "       total_price_USD  \n",
       "count       572.000000  \n",
       "mean        161.935315  \n",
       "std         214.689768  \n",
       "min           8.000000  \n",
       "25%          44.750000  \n",
       "50%          70.500000  \n",
       "75%         185.250000  \n",
       "max        1839.000000  "
      ]
     },
     "execution_count": 654,
     "metadata": {},
     "output_type": "execute_result"
    }
   ],
   "source": [
    "best_hotel_deal.describe()"
   ]
  },
  {
   "cell_type": "code",
   "execution_count": 655,
   "metadata": {
    "tags": []
   },
   "outputs": [
    {
     "name": "stdout",
     "output_type": "stream",
     "text": [
      "----------------------------------------------------------------------\n",
      "Most expensive hotel priced at USD 2405 per night,\n",
      "the cheapest place priced at USD 8 per night\n",
      "----------------------------------------------------------------------\n"
     ]
    }
   ],
   "source": [
    "print('-'*70)\n",
    "print(\"Most expensive hotel priced at USD 2405 per night,\\nthe cheapest place priced at USD 8 per night\")\n",
    "print('-'*70)"
   ]
  },
  {
   "cell_type": "code",
   "execution_count": 656,
   "metadata": {},
   "outputs": [
    {
     "data": {
      "image/png": "[encoded data removed]",
      "text/plain": [
       "<Figure size 864x432 with 2 Axes>"
      ]
     },
     "metadata": {
      "needs_background": "light"
     },
     "output_type": "display_data"
    }
   ],
   "source": [
    "import matplotlib.pyplot as plt\n",
    "import seaborn as sns\n",
    "\n",
    "import warnings\n",
    "warnings.filterwarnings(\"ignore\")\n",
    "\n",
    "#plt.rcParams['figure.figsize'] = 12, 6\n",
    "plt.rcParams['axes.facecolor'] = '#FFF1E0'\n",
    "\n",
    "fig, ax = plt.subplots(1, 2, figsize=(12,6))\n",
    "\n",
    "sns.distplot(best_hotel_deal.total_price_USD, rug=True, ax=ax[0]).\\\n",
    "set_title(\"Dubai, Hotel price distribution, May 2021\")\n",
    "\n",
    "sns.distplot(np.log(best_hotel_deal.total_price_USD), ax=ax[1]).\\\n",
    "             set_title(\"Dubai, Hotel LOG price distribution, May 2021\");\n",
    "\n",
    "fig.show();"
   ]
  },
  {
   "cell_type": "code",
   "execution_count": 657,
   "metadata": {},
   "outputs": [
    {
     "name": "stdout",
     "output_type": "stream",
     "text": [
      "----------------------------------------------------------------------\n",
      "Most expensive hotels do not have metro access.\n",
      "----------------------------------------------------------------------\n"
     ]
    },
    {
     "data": {
      "image/png": "[encoded data removed]",
      "text/plain": [
       "<Figure size 864x432 with 2 Axes>"
      ]
     },
     "metadata": {
      "needs_background": "light"
     },
     "output_type": "display_data"
    }
   ],
   "source": [
    "print('-'*70)\n",
    "print(\"Most expensive hotels do not have metro access.\")\n",
    "print('-'*70)\n",
    "\n",
    "fig, (ax1, ax2) = plt.subplots(1, 2, figsize=(12, 6))\n",
    "\n",
    "best_hotel_deal[best_hotel_deal['metro']=='Metro access'].\\\n",
    "    boxplot(column = 'total_price_USD', \n",
    "            by = ['reviews_text'], \n",
    "            ax=ax1).set_title(\"Price by review for hotels with Metro access.\")\n",
    "\n",
    "best_hotel_deal[best_hotel_deal['metro']=='no metro'].\\\n",
    "    boxplot(column = 'total_price_USD', \n",
    "            by = ['reviews_text'], \n",
    "            ax=ax2).set_title(\"Price by review for hotels without Metro access.\")\n",
    "\n",
    "plt.show();"
   ]
  },
  {
   "cell_type": "code",
   "execution_count": 658,
   "metadata": {
    "tags": []
   },
   "outputs": [
    {
     "name": "stdout",
     "output_type": "stream",
     "text": [
      "Apparently there are Very Good (rating 3) hotels with metro access below USD 50 price,\n",
      "and average (rating 1) hotels without metro and above USD 500 price.\n",
      "----------------------------------------------------------------------\n"
     ]
    }
   ],
   "source": [
    "print(\"Apparently there are Very Good (rating 3) hotels with metro access below USD 50 price,\\nand average (rating 1) hotels without metro and above USD 500 price.\")\n",
    "print('-'*70)"
   ]
  },
  {
   "cell_type": "code",
   "execution_count": 659,
   "metadata": {},
   "outputs": [
    {
     "name": "stdout",
     "output_type": "stream",
     "text": [
      "Number of hotels by city location\n",
      "\n"
     ]
    },
    {
     "data": {
      "image/png": "[encoded data removed]",
      "text/plain": [
       "<Figure size 864x432 with 1 Axes>"
      ]
     },
     "metadata": {
      "needs_background": "light"
     },
     "output_type": "display_data"
    }
   ],
   "source": [
    "### ### let 's check distribution of hotels by location\n",
    "print(\"Number of hotels by city location\")\n",
    "print('')\n",
    "best_hotel_deal.address.value_counts().plot(kind='bar');"
   ]
  },
  {
   "cell_type": "code",
   "execution_count": 660,
   "metadata": {
    "tags": []
   },
   "outputs": [
    {
     "name": "stdout",
     "output_type": "stream",
     "text": [
      "Except for Downtown Dubai and Palm Jumeirah, there is availability of hotels with price below 100 USD\n",
      "in every part of the city\n",
      "\n"
     ]
    },
    {
     "data": {
      "image/png": "[encoded data removed]",
      "text/plain": [
       "<Figure size 864x432 with 1 Axes>"
      ]
     },
     "metadata": {
      "needs_background": "light"
     },
     "output_type": "display_data"
    }
   ],
   "source": [
    "print(\"Except for Downtown Dubai and Palm Jumeirah, there is availability of hotels with price below 100 USD\\nin every part of the city\")\n",
    "print('')\n",
    "\n",
    "best_hotel_deal[(best_hotel_deal['total_price_USD']<500)].\\\n",
    "    boxplot(column='total_price_USD', by='address', figsize=(12, 6), rot=90);"
   ]
  },
  {
   "cell_type": "code",
   "execution_count": 661,
   "metadata": {},
   "outputs": [
    {
     "name": "stdout",
     "output_type": "stream",
     "text": [
      "----------------------------------------------------------------------\n"
     ]
    },
    {
     "data": {
      "image/png": "[encoded data removed]",
      "text/plain": [
       "<Figure size 864x432 with 2 Axes>"
      ]
     },
     "metadata": {
      "needs_background": "light"
     },
     "output_type": "display_data"
    }
   ],
   "source": [
    "print('-'*70)\n",
    "\n",
    "\n",
    "fig, (ax1, ax2) = plt.subplots(1, 2, figsize=(12, 6))\n",
    "\n",
    "best_hotel_deal.plot.scatter(x='reviews_number', \n",
    "                             y = 'total_price_USD', \n",
    "                             ax=ax1).set_title(\"Price versus Number of reviews\")\n",
    "\n",
    "best_hotel_deal.plot.scatter(x='reviews_text', \n",
    "                             y = 'total_price_USD', \n",
    "                             ax=ax2).set_title(\"Price versus ratings\")\n",
    "\n",
    "plt.show();"
   ]
  },
  {
   "cell_type": "markdown",
   "metadata": {},
   "source": [
    "### Choosing best deal to cater to my needs"
   ]
  },
  {
   "cell_type": "code",
   "execution_count": 662,
   "metadata": {},
   "outputs": [
    {
     "name": "stdout",
     "output_type": "stream",
     "text": [
      "\n",
      "Narrowing down my search to hotels with 'Very Good' (3) rating, \n",
      "metro access, price below 50 USD with locations at Garhood, \n",
      "Al Barsha or Trade Centre, one double bed.\n",
      "\n"
     ]
    },
    {
     "data": {
      "text/html": [
       "<div>\n",
       "<style scoped>\n",
       "    .dataframe tbody tr th:only-of-type {\n",
       "        vertical-align: middle;\n",
       "    }\n",
       "\n",
       "    .dataframe tbody tr th {\n",
       "        vertical-align: top;\n",
       "    }\n",
       "\n",
       "    .dataframe thead th {\n",
       "        text-align: right;\n",
       "    }\n",
       "</style>\n",
       "<table border=\"1\" class=\"dataframe\">\n",
       "  <thead>\n",
       "    <tr style=\"text-align: right;\">\n",
       "      <th></th>\n",
       "      <th>hotel</th>\n",
       "      <th>reviews_score</th>\n",
       "      <th>reviews_number</th>\n",
       "      <th>room_type</th>\n",
       "      <th>bed_type</th>\n",
       "      <th>address</th>\n",
       "      <th>total_price_USD</th>\n",
       "    </tr>\n",
       "  </thead>\n",
       "  <tbody>\n",
       "    <tr>\n",
       "      <th>656</th>\n",
       "      <td>Bedspace Sharing in Bur Dubai</td>\n",
       "      <td>8.1</td>\n",
       "      <td>7</td>\n",
       "      <td>other</td>\n",
       "      <td>other</td>\n",
       "      <td>Bur Dubai</td>\n",
       "      <td>14</td>\n",
       "    </tr>\n",
       "    <tr>\n",
       "      <th>156</th>\n",
       "      <td>Howard Johnson Plaza by Wyndham Dubai Deira</td>\n",
       "      <td>8.1</td>\n",
       "      <td>5006</td>\n",
       "      <td>other</td>\n",
       "      <td>1 extra-large double bed</td>\n",
       "      <td>Deira</td>\n",
       "      <td>31</td>\n",
       "    </tr>\n",
       "    <tr>\n",
       "      <th>168</th>\n",
       "      <td>Premier Inn Dubai International Airport</td>\n",
       "      <td>8.4</td>\n",
       "      <td>10284</td>\n",
       "      <td>other</td>\n",
       "      <td>1 large double bed</td>\n",
       "      <td>Garhoud</td>\n",
       "      <td>32</td>\n",
       "    </tr>\n",
       "    <tr>\n",
       "      <th>271</th>\n",
       "      <td>Super 8 by Wyndham Dubai Deira</td>\n",
       "      <td>8.4</td>\n",
       "      <td>490</td>\n",
       "      <td>other</td>\n",
       "      <td>1 large double bed</td>\n",
       "      <td>Deira</td>\n",
       "      <td>34</td>\n",
       "    </tr>\n",
       "    <tr>\n",
       "      <th>196</th>\n",
       "      <td>Emirates Concorde Hotel &amp; Apartments</td>\n",
       "      <td>8.0</td>\n",
       "      <td>6993</td>\n",
       "      <td>other</td>\n",
       "      <td>other</td>\n",
       "      <td>Deira</td>\n",
       "      <td>34</td>\n",
       "    </tr>\n",
       "    <tr>\n",
       "      <th>228</th>\n",
       "      <td>Emirates Concorde Hotel &amp; Apartments</td>\n",
       "      <td>8.0</td>\n",
       "      <td>6993</td>\n",
       "      <td>other</td>\n",
       "      <td>other</td>\n",
       "      <td>Deira</td>\n",
       "      <td>35</td>\n",
       "    </tr>\n",
       "    <tr>\n",
       "      <th>465</th>\n",
       "      <td>Al Khoory Inn Bur Dubai</td>\n",
       "      <td>8.3</td>\n",
       "      <td>1549</td>\n",
       "      <td>other</td>\n",
       "      <td>1 large double bed</td>\n",
       "      <td>Bur Dubai</td>\n",
       "      <td>39</td>\n",
       "    </tr>\n",
       "    <tr>\n",
       "      <th>99</th>\n",
       "      <td>Flora Inn Hotel Dubai Airport</td>\n",
       "      <td>8.5</td>\n",
       "      <td>11609</td>\n",
       "      <td>other</td>\n",
       "      <td>other</td>\n",
       "      <td>Garhoud</td>\n",
       "      <td>39</td>\n",
       "    </tr>\n",
       "    <tr>\n",
       "      <th>115</th>\n",
       "      <td>Flora Inn Hotel Dubai Airport</td>\n",
       "      <td>8.5</td>\n",
       "      <td>11609</td>\n",
       "      <td>other</td>\n",
       "      <td>other</td>\n",
       "      <td>Garhoud</td>\n",
       "      <td>40</td>\n",
       "    </tr>\n",
       "    <tr>\n",
       "      <th>299</th>\n",
       "      <td>Signature Hotel Al Barsha</td>\n",
       "      <td>8.1</td>\n",
       "      <td>2294</td>\n",
       "      <td>other</td>\n",
       "      <td>other</td>\n",
       "      <td>Al Barsha</td>\n",
       "      <td>41</td>\n",
       "    </tr>\n",
       "    <tr>\n",
       "      <th>326</th>\n",
       "      <td>Le Wana Hotel</td>\n",
       "      <td>8.2</td>\n",
       "      <td>1026</td>\n",
       "      <td>other</td>\n",
       "      <td>other</td>\n",
       "      <td>Deira</td>\n",
       "      <td>42</td>\n",
       "    </tr>\n",
       "    <tr>\n",
       "      <th>405</th>\n",
       "      <td>Al Jawhara Gardens Hotel</td>\n",
       "      <td>8.3</td>\n",
       "      <td>783</td>\n",
       "      <td>other</td>\n",
       "      <td>other</td>\n",
       "      <td>Deira</td>\n",
       "      <td>42</td>\n",
       "    </tr>\n",
       "    <tr>\n",
       "      <th>272</th>\n",
       "      <td>Studio M Arabian Plaza Hotel &amp; Hotel Apartment...</td>\n",
       "      <td>8.3</td>\n",
       "      <td>2867</td>\n",
       "      <td>other</td>\n",
       "      <td>1 large double bed</td>\n",
       "      <td>Dubai</td>\n",
       "      <td>44</td>\n",
       "    </tr>\n",
       "    <tr>\n",
       "      <th>563</th>\n",
       "      <td>Mark Inn Hotel Deira</td>\n",
       "      <td>8.2</td>\n",
       "      <td>183</td>\n",
       "      <td>other</td>\n",
       "      <td>1 large double bed</td>\n",
       "      <td>Deira</td>\n",
       "      <td>45</td>\n",
       "    </tr>\n",
       "    <tr>\n",
       "      <th>359</th>\n",
       "      <td>Coral Dubai Deira Hotel</td>\n",
       "      <td>8.2</td>\n",
       "      <td>2475</td>\n",
       "      <td>other</td>\n",
       "      <td>1 extra-large double bed</td>\n",
       "      <td>Deira</td>\n",
       "      <td>45</td>\n",
       "    </tr>\n",
       "    <tr>\n",
       "      <th>417</th>\n",
       "      <td>Raviz Center Point Hotel</td>\n",
       "      <td>8.0</td>\n",
       "      <td>962</td>\n",
       "      <td>other</td>\n",
       "      <td>1 large double bed</td>\n",
       "      <td>Bur Dubai</td>\n",
       "      <td>45</td>\n",
       "    </tr>\n",
       "    <tr>\n",
       "      <th>208</th>\n",
       "      <td>Ramada by Wyndham Dubai Deira</td>\n",
       "      <td>8.2</td>\n",
       "      <td>1010</td>\n",
       "      <td>other</td>\n",
       "      <td>1 large double bed</td>\n",
       "      <td>Deira</td>\n",
       "      <td>46</td>\n",
       "    </tr>\n",
       "    <tr>\n",
       "      <th>216</th>\n",
       "      <td>Hampton By Hilton Dubai Al Barsha</td>\n",
       "      <td>8.5</td>\n",
       "      <td>962</td>\n",
       "      <td>other</td>\n",
       "      <td>1 double bed</td>\n",
       "      <td>Al Barsha</td>\n",
       "      <td>48</td>\n",
       "    </tr>\n",
       "    <tr>\n",
       "      <th>178</th>\n",
       "      <td>ibis Styles Dubai Airport Hotel</td>\n",
       "      <td>8.4</td>\n",
       "      <td>1022</td>\n",
       "      <td>Twin Room</td>\n",
       "      <td>2 single beds</td>\n",
       "      <td>Garhoud</td>\n",
       "      <td>49</td>\n",
       "    </tr>\n",
       "    <tr>\n",
       "      <th>250</th>\n",
       "      <td>Savoy Suites Hotel Apartment</td>\n",
       "      <td>8.3</td>\n",
       "      <td>1559</td>\n",
       "      <td>other</td>\n",
       "      <td>other</td>\n",
       "      <td>Bur Dubai</td>\n",
       "      <td>49</td>\n",
       "    </tr>\n",
       "  </tbody>\n",
       "</table>\n",
       "</div>"
      ],
      "text/plain": [
       "                                                 hotel  reviews_score  \\\n",
       "656                      Bedspace Sharing in Bur Dubai            8.1   \n",
       "156        Howard Johnson Plaza by Wyndham Dubai Deira            8.1   \n",
       "168            Premier Inn Dubai International Airport            8.4   \n",
       "271                     Super 8 by Wyndham Dubai Deira            8.4   \n",
       "196               Emirates Concorde Hotel & Apartments            8.0   \n",
       "228               Emirates Concorde Hotel & Apartments            8.0   \n",
       "465                            Al Khoory Inn Bur Dubai            8.3   \n",
       "99                       Flora Inn Hotel Dubai Airport            8.5   \n",
       "115                      Flora Inn Hotel Dubai Airport            8.5   \n",
       "299                          Signature Hotel Al Barsha            8.1   \n",
       "326                                      Le Wana Hotel            8.2   \n",
       "405                           Al Jawhara Gardens Hotel            8.3   \n",
       "272  Studio M Arabian Plaza Hotel & Hotel Apartment...            8.3   \n",
       "563                               Mark Inn Hotel Deira            8.2   \n",
       "359                            Coral Dubai Deira Hotel            8.2   \n",
       "417                           Raviz Center Point Hotel            8.0   \n",
       "208                      Ramada by Wyndham Dubai Deira            8.2   \n",
       "216                  Hampton By Hilton Dubai Al Barsha            8.5   \n",
       "178                    ibis Styles Dubai Airport Hotel            8.4   \n",
       "250                       Savoy Suites Hotel Apartment            8.3   \n",
       "\n",
       "     reviews_number  room_type                  bed_type    address  \\\n",
       "656               7      other                     other  Bur Dubai   \n",
       "156            5006      other  1 extra-large double bed      Deira   \n",
       "168           10284      other        1 large double bed    Garhoud   \n",
       "271             490      other        1 large double bed      Deira   \n",
       "196            6993      other                     other      Deira   \n",
       "228            6993      other                     other      Deira   \n",
       "465            1549      other        1 large double bed  Bur Dubai   \n",
       "99            11609      other                     other    Garhoud   \n",
       "115           11609      other                     other    Garhoud   \n",
       "299            2294      other                     other  Al Barsha   \n",
       "326            1026      other                     other      Deira   \n",
       "405             783      other                     other      Deira   \n",
       "272            2867      other        1 large double bed      Dubai   \n",
       "563             183      other        1 large double bed      Deira   \n",
       "359            2475      other  1 extra-large double bed      Deira   \n",
       "417             962      other        1 large double bed  Bur Dubai   \n",
       "208            1010      other        1 large double bed      Deira   \n",
       "216             962      other              1 double bed  Al Barsha   \n",
       "178            1022  Twin Room             2 single beds    Garhoud   \n",
       "250            1559      other                     other  Bur Dubai   \n",
       "\n",
       "     total_price_USD  \n",
       "656               14  \n",
       "156               31  \n",
       "168               32  \n",
       "271               34  \n",
       "196               34  \n",
       "228               35  \n",
       "465               39  \n",
       "99                39  \n",
       "115               40  \n",
       "299               41  \n",
       "326               42  \n",
       "405               42  \n",
       "272               44  \n",
       "563               45  \n",
       "359               45  \n",
       "417               45  \n",
       "208               46  \n",
       "216               48  \n",
       "178               49  \n",
       "250               49  "
      ]
     },
     "execution_count": 662,
     "metadata": {},
     "output_type": "execute_result"
    }
   ],
   "source": [
    "print(\"\"\"\n",
    "Narrowing down my search to hotels with 'Very Good' (3) rating, \n",
    "metro access, price below 50 USD with locations at Garhood, \n",
    "Al Barsha or Trade Centre, one double bed.\n",
    "\"\"\")\n",
    "\n",
    "best_hotel_deal[(best_hotel_deal['metro']=='Metro access') & \n",
    "                (best_hotel_deal['reviews_text']==3) &  \n",
    "                (best_hotel_deal['total_price_USD']<50)].\\\n",
    "                sort_values('total_price_USD')\\\n",
    "                [['hotel', 'reviews_score', \n",
    "                  'reviews_number', 'room_type', \n",
    "                  'bed_type', 'address', 'total_price_USD']]"
   ]
  },
  {
   "cell_type": "code",
   "execution_count": 664,
   "metadata": {
    "tags": []
   },
   "outputs": [],
   "source": [
    "#!jupyter nbconvert --to  pdf --TemplateExporter.exclude_input=True BestHotelDeal.ipynb"
   ]
  }
 ],
 "metadata": {
  "kernelspec": {
   "display_name": "Python 3",
   "language": "python",
   "name": "python3"
  },
  "language_info": {
   "codemirror_mode": {
    "name": "ipython",
    "version": 3
   },
   "file_extension": ".py",
   "mimetype": "text/x-python",
   "name": "python",
   "nbconvert_exporter": "python",
   "pygments_lexer": "ipython3",
   "version": "3.7.0"
  }
 },
 "nbformat": 4,
 "nbformat_minor": 4
}
